{
  "nbformat": 4,
  "nbformat_minor": 0,
  "metadata": {
    "colab": {
      "name": "NLP_Sentiment_Analysis_Amazon_and_Yelp_Reviews_Dataset_Tensorflow With LSTM and Subword.ipynb",
      "provenance": []
    },
    "kernelspec": {
      "name": "python3",
      "display_name": "Python 3"
    },
    "language_info": {
      "name": "python"
    }
  },
  "cells": [
    {
      "cell_type": "markdown",
      "source": [
        "**Sentiment analysis** is used to determine whether a given text contains negative, positive, or neutral emotions. It's a form of text analytics that uses natural language processing (NLP) and machine learning.\n",
        "\n",
        "**LSTM** Utilizes “forget” and “learn” gates that feed to “remember” and “use” gates, where remembering is for further storage for the next input, and using is for generating the current output\n",
        "\n",
        "**Subwords** are another approach, where individual words are broken up into the more commonly appearing pieces of themselves. This helps avoid marking very rare words as OOV when you use only the most common words in a corpus.\n",
        "\n",
        "**Dataset Source** : https://www.kaggle.com/marklvl/sentiment-labelled-sentences-data-set\n",
        "\n",
        "**Goal** : Determine whether the reviews given by customers are positive or negative, which is learned from previous reviews. "
      ],
      "metadata": {
        "id": "PC1qKhAfx7AB"
      }
    },
    {
      "cell_type": "markdown",
      "source": [
        "#### 1. Import Library"
      ],
      "metadata": {
        "id": "4vnlBEyR5sdS"
      }
    },
    {
      "cell_type": "code",
      "execution_count": 16,
      "metadata": {
        "id": "wdv3sRnGxHY3"
      },
      "outputs": [],
      "source": [
        "import tensorflow as tf\n",
        "from tensorflow.keras.preprocessing.text import Tokenizer\n",
        "from tensorflow.keras.preprocessing.sequence import pad_sequences\n",
        "\n",
        "import numpy as np\n",
        "import pandas as pd\n",
        "import matplotlib.pyplot as plt"
      ]
    },
    {
      "cell_type": "markdown",
      "source": [
        "#### 2. Get Dataset"
      ],
      "metadata": {
        "id": "osrEFIKk5zSI"
      }
    },
    {
      "cell_type": "code",
      "source": [
        "path = tf.keras.utils.get_file('reviews.csv', \n",
        "                               'https://drive.google.com/uc?id=13ySLC_ue6Umt9RJYSeM2t-V0kCv-4C-P')\n",
        "print(path)"
      ],
      "metadata": {
        "colab": {
          "base_uri": "https://localhost:8080/"
        },
        "id": "snQVA9fS53F5",
        "outputId": "b6b507c1-fbbd-43d9-aa06-07e6424e59a9"
      },
      "execution_count": 17,
      "outputs": [
        {
          "output_type": "stream",
          "name": "stdout",
          "text": [
            "/root/.keras/datasets/reviews.csv\n"
          ]
        }
      ]
    },
    {
      "cell_type": "code",
      "source": [
        "# get csv file\n",
        "dataset = pd.read_csv(path)\n",
        "dataset.head()"
      ],
      "metadata": {
        "colab": {
          "base_uri": "https://localhost:8080/",
          "height": 206
        },
        "id": "HzQ1P2yP55aG",
        "outputId": "6b10e396-2e4d-453e-ad60-129a34447ef2"
      },
      "execution_count": 18,
      "outputs": [
        {
          "output_type": "execute_result",
          "data": {
            "text/plain": [
              "   Unnamed: 0                                               text  sentiment\n",
              "0           0  So there is no way for me to plug it in here i...          0\n",
              "1           1                         Good case Excellent value.          1\n",
              "2           2                             Great for the jawbone.          1\n",
              "3           3  Tied to charger for conversations lasting more...          0\n",
              "4           4                                  The mic is great.          1"
            ],
            "text/html": [
              "\n",
              "  <div id=\"df-0acb3e86-4cd3-48dd-b97e-00e4c1d5bdbb\">\n",
              "    <div class=\"colab-df-container\">\n",
              "      <div>\n",
              "<style scoped>\n",
              "    .dataframe tbody tr th:only-of-type {\n",
              "        vertical-align: middle;\n",
              "    }\n",
              "\n",
              "    .dataframe tbody tr th {\n",
              "        vertical-align: top;\n",
              "    }\n",
              "\n",
              "    .dataframe thead th {\n",
              "        text-align: right;\n",
              "    }\n",
              "</style>\n",
              "<table border=\"1\" class=\"dataframe\">\n",
              "  <thead>\n",
              "    <tr style=\"text-align: right;\">\n",
              "      <th></th>\n",
              "      <th>Unnamed: 0</th>\n",
              "      <th>text</th>\n",
              "      <th>sentiment</th>\n",
              "    </tr>\n",
              "  </thead>\n",
              "  <tbody>\n",
              "    <tr>\n",
              "      <th>0</th>\n",
              "      <td>0</td>\n",
              "      <td>So there is no way for me to plug it in here i...</td>\n",
              "      <td>0</td>\n",
              "    </tr>\n",
              "    <tr>\n",
              "      <th>1</th>\n",
              "      <td>1</td>\n",
              "      <td>Good case Excellent value.</td>\n",
              "      <td>1</td>\n",
              "    </tr>\n",
              "    <tr>\n",
              "      <th>2</th>\n",
              "      <td>2</td>\n",
              "      <td>Great for the jawbone.</td>\n",
              "      <td>1</td>\n",
              "    </tr>\n",
              "    <tr>\n",
              "      <th>3</th>\n",
              "      <td>3</td>\n",
              "      <td>Tied to charger for conversations lasting more...</td>\n",
              "      <td>0</td>\n",
              "    </tr>\n",
              "    <tr>\n",
              "      <th>4</th>\n",
              "      <td>4</td>\n",
              "      <td>The mic is great.</td>\n",
              "      <td>1</td>\n",
              "    </tr>\n",
              "  </tbody>\n",
              "</table>\n",
              "</div>\n",
              "      <button class=\"colab-df-convert\" onclick=\"convertToInteractive('df-0acb3e86-4cd3-48dd-b97e-00e4c1d5bdbb')\"\n",
              "              title=\"Convert this dataframe to an interactive table.\"\n",
              "              style=\"display:none;\">\n",
              "        \n",
              "  <svg xmlns=\"http://www.w3.org/2000/svg\" height=\"24px\"viewBox=\"0 0 24 24\"\n",
              "       width=\"24px\">\n",
              "    <path d=\"M0 0h24v24H0V0z\" fill=\"none\"/>\n",
              "    <path d=\"M18.56 5.44l.94 2.06.94-2.06 2.06-.94-2.06-.94-.94-2.06-.94 2.06-2.06.94zm-11 1L8.5 8.5l.94-2.06 2.06-.94-2.06-.94L8.5 2.5l-.94 2.06-2.06.94zm10 10l.94 2.06.94-2.06 2.06-.94-2.06-.94-.94-2.06-.94 2.06-2.06.94z\"/><path d=\"M17.41 7.96l-1.37-1.37c-.4-.4-.92-.59-1.43-.59-.52 0-1.04.2-1.43.59L10.3 9.45l-7.72 7.72c-.78.78-.78 2.05 0 2.83L4 21.41c.39.39.9.59 1.41.59.51 0 1.02-.2 1.41-.59l7.78-7.78 2.81-2.81c.8-.78.8-2.07 0-2.86zM5.41 20L4 18.59l7.72-7.72 1.47 1.35L5.41 20z\"/>\n",
              "  </svg>\n",
              "      </button>\n",
              "      \n",
              "  <style>\n",
              "    .colab-df-container {\n",
              "      display:flex;\n",
              "      flex-wrap:wrap;\n",
              "      gap: 12px;\n",
              "    }\n",
              "\n",
              "    .colab-df-convert {\n",
              "      background-color: #E8F0FE;\n",
              "      border: none;\n",
              "      border-radius: 50%;\n",
              "      cursor: pointer;\n",
              "      display: none;\n",
              "      fill: #1967D2;\n",
              "      height: 32px;\n",
              "      padding: 0 0 0 0;\n",
              "      width: 32px;\n",
              "    }\n",
              "\n",
              "    .colab-df-convert:hover {\n",
              "      background-color: #E2EBFA;\n",
              "      box-shadow: 0px 1px 2px rgba(60, 64, 67, 0.3), 0px 1px 3px 1px rgba(60, 64, 67, 0.15);\n",
              "      fill: #174EA6;\n",
              "    }\n",
              "\n",
              "    [theme=dark] .colab-df-convert {\n",
              "      background-color: #3B4455;\n",
              "      fill: #D2E3FC;\n",
              "    }\n",
              "\n",
              "    [theme=dark] .colab-df-convert:hover {\n",
              "      background-color: #434B5C;\n",
              "      box-shadow: 0px 1px 3px 1px rgba(0, 0, 0, 0.15);\n",
              "      filter: drop-shadow(0px 1px 2px rgba(0, 0, 0, 0.3));\n",
              "      fill: #FFFFFF;\n",
              "    }\n",
              "  </style>\n",
              "\n",
              "      <script>\n",
              "        const buttonEl =\n",
              "          document.querySelector('#df-0acb3e86-4cd3-48dd-b97e-00e4c1d5bdbb button.colab-df-convert');\n",
              "        buttonEl.style.display =\n",
              "          google.colab.kernel.accessAllowed ? 'block' : 'none';\n",
              "\n",
              "        async function convertToInteractive(key) {\n",
              "          const element = document.querySelector('#df-0acb3e86-4cd3-48dd-b97e-00e4c1d5bdbb');\n",
              "          const dataTable =\n",
              "            await google.colab.kernel.invokeFunction('convertToInteractive',\n",
              "                                                     [key], {});\n",
              "          if (!dataTable) return;\n",
              "\n",
              "          const docLinkHtml = 'Like what you see? Visit the ' +\n",
              "            '<a target=\"_blank\" href=https://colab.research.google.com/notebooks/data_table.ipynb>data table notebook</a>'\n",
              "            + ' to learn more about interactive tables.';\n",
              "          element.innerHTML = '';\n",
              "          dataTable['output_type'] = 'display_data';\n",
              "          await google.colab.output.renderOutput(dataTable, element);\n",
              "          const docLink = document.createElement('div');\n",
              "          docLink.innerHTML = docLinkHtml;\n",
              "          element.appendChild(docLink);\n",
              "        }\n",
              "      </script>\n",
              "    </div>\n",
              "  </div>\n",
              "  "
            ]
          },
          "metadata": {},
          "execution_count": 18
        }
      ]
    },
    {
      "cell_type": "markdown",
      "source": [
        "#### 3. Preprocessing"
      ],
      "metadata": {
        "id": "JTnX_t9D6Rwh"
      }
    },
    {
      "cell_type": "code",
      "source": [
        "# Extract sentences and labels\n",
        "sentences = dataset['text'].tolist()\n",
        "labels = dataset['sentiment'].tolist()\n",
        "\n",
        "#Check\n",
        "for x in range(2):\n",
        "  print(sentences[x])\n",
        "  print(labels[x])"
      ],
      "metadata": {
        "colab": {
          "base_uri": "https://localhost:8080/"
        },
        "id": "c8BjxyoN6H6H",
        "outputId": "772561dc-e2c3-49e6-ee1a-696e0d950b89"
      },
      "execution_count": 19,
      "outputs": [
        {
          "output_type": "stream",
          "name": "stdout",
          "text": [
            "So there is no way for me to plug it in here in the US unless I go by a converter.\n",
            "0\n",
            "Good case Excellent value.\n",
            "1\n"
          ]
        }
      ]
    },
    {
      "cell_type": "markdown",
      "source": [
        "#### 4. Create Subword and Tokenizer"
      ],
      "metadata": {
        "id": "rTG04IWa9jIz"
      }
    },
    {
      "cell_type": "code",
      "source": [
        "# Create subword dataset\n",
        "import tensorflow_datasets as tfds\n",
        "\n",
        "vocab_size = 1000\n",
        "tokenizer = tfds.deprecated.text.SubwordTextEncoder.build_from_corpus(sentences, vocab_size, max_subword_length=5)\n",
        "\n",
        "# Check\n",
        "print('Vocal size is', tokenizer.vocab_size)\n",
        "\n",
        "# Check that the tokenizer works appropriately\n",
        "num = 5\n",
        "print(sentences[num])\n",
        "encoded = tokenizer.encode(sentences[num])\n",
        "print(encoded)"
      ],
      "metadata": {
        "colab": {
          "base_uri": "https://localhost:8080/"
        },
        "id": "96ZH-ki69FpR",
        "outputId": "8093b735-5482-4528-cfce-27756bd2a5be"
      },
      "execution_count": 20,
      "outputs": [
        {
          "output_type": "stream",
          "name": "stdout",
          "text": [
            "Vocal size is 999\n",
            "I have to jiggle the plug to get it to line up right to get decent volume.\n",
            "[4, 31, 6, 849, 162, 450, 12, 1, 600, 438, 775, 6, 175, 14, 6, 55, 213, 159, 474, 775, 6, 175, 614, 380, 295, 148, 72, 789]\n"
          ]
        }
      ]
    },
    {
      "cell_type": "code",
      "source": [
        "# Separately print out each subword, decoded\n",
        "for i in encoded:\n",
        "  print(tokenizer.decode([i]))"
      ],
      "metadata": {
        "colab": {
          "base_uri": "https://localhost:8080/"
        },
        "id": "25CygNiBAlYn",
        "outputId": "da7794be-2da2-4e96-e258-35d7186ae5bf"
      },
      "execution_count": 22,
      "outputs": [
        {
          "output_type": "stream",
          "name": "stdout",
          "text": [
            "I \n",
            "have \n",
            "to \n",
            "j\n",
            "ig\n",
            "gl\n",
            "e \n",
            "the \n",
            "pl\n",
            "ug\n",
            " \n",
            "to \n",
            "get \n",
            "it \n",
            "to \n",
            "li\n",
            "ne \n",
            "up \n",
            "right\n",
            " \n",
            "to \n",
            "get \n",
            "dec\n",
            "ent \n",
            "vo\n",
            "lu\n",
            "me\n",
            ".\n"
          ]
        }
      ]
    },
    {
      "cell_type": "code",
      "source": [
        "# Replace sentence data with encoded subwords\n",
        "# Now, we'll create the sequences to be used for training by actually encoding each of the individual sentences\n",
        "for i, sentence in enumerate(sentences):\n",
        "  sentences[i] = tokenizer.encode(sentence)\n",
        "\n",
        "# check\n",
        "print(sentences[5])"
      ],
      "metadata": {
        "colab": {
          "base_uri": "https://localhost:8080/"
        },
        "id": "qibXAI3eAtDs",
        "outputId": "e08b73bf-d03d-4efa-f5e9-6d07018a04f8"
      },
      "execution_count": 24,
      "outputs": [
        {
          "output_type": "stream",
          "name": "stdout",
          "text": [
            "[4, 31, 6, 849, 162, 450, 12, 1, 600, 438, 775, 6, 175, 14, 6, 55, 213, 159, 474, 775, 6, 175, 614, 380, 295, 148, 72, 789]\n"
          ]
        }
      ]
    },
    {
      "cell_type": "markdown",
      "source": [
        "#### 5. Split Training and Testing Dataset\n",
        "Divide the dataset into 2 parts, Training dataset and Testing dataset"
      ],
      "metadata": {
        "id": "0gSfbMZQ_IY8"
      }
    },
    {
      "cell_type": "code",
      "source": [
        "max_length = 50\n",
        "trunc_type = 'post'\n",
        "padding_type = 'post'\n",
        "\n",
        "# Pad all sequences\n",
        "sequences_padded = pad_sequences(sentences, maxlen=max_length, padding=padding_type, truncating=trunc_type)\n",
        "\n",
        "# Separate sentenses and labels into training and tets dataset (80%-20%)\n",
        "training_size = int(len(sentences) * 0.8)\n",
        "\n",
        "training_sequences = sequences_padded[0:training_size]\n",
        "testing_sequences = sequences_padded[training_size:]\n",
        "training_labels = labels[0:training_size]\n",
        "testing_labels = labels[training_size:]\n",
        "\n",
        "# Transform labels into numpy array, this will be used for the network later on build model part\n",
        "training_labels_final = np.array(training_labels)\n",
        "testing_labels_final = np.array(testing_labels)\n"
      ],
      "metadata": {
        "id": "DRZmSdai9LOP"
      },
      "execution_count": 25,
      "outputs": []
    },
    {
      "cell_type": "markdown",
      "source": [
        "#### 6. Build The Model"
      ],
      "metadata": {
        "id": "FMVgYi_gA1zD"
      }
    },
    {
      "cell_type": "code",
      "source": [
        "embedding_dim = 16\n",
        "\n",
        "model = tf.keras.Sequential([\n",
        "    tf.keras.layers.Embedding(vocab_size, embedding_dim, input_length=max_length),\n",
        "    tf.keras.layers.Bidirectional(tf.keras.layers.LSTM(embedding_dim, \n",
        "                                                       return_sequences=True)), \n",
        "    tf.keras.layers.Bidirectional(tf.keras.layers.LSTM(embedding_dim)),\n",
        "    tf.keras.layers.Dense(6, activation='relu'),\n",
        "    tf.keras.layers.Dense(1, activation='sigmoid')\n",
        "])\n",
        "\n",
        "model.summary()"
      ],
      "metadata": {
        "colab": {
          "base_uri": "https://localhost:8080/"
        },
        "id": "5AdZgSWc_fYb",
        "outputId": "041a2044-d149-418c-9040-879481347ac5"
      },
      "execution_count": 27,
      "outputs": [
        {
          "output_type": "stream",
          "name": "stdout",
          "text": [
            "Model: \"sequential\"\n",
            "_________________________________________________________________\n",
            " Layer (type)                Output Shape              Param #   \n",
            "=================================================================\n",
            " embedding (Embedding)       (None, 50, 16)            16000     \n",
            "                                                                 \n",
            " bidirectional (Bidirectiona  (None, 50, 32)           4224      \n",
            " l)                                                              \n",
            "                                                                 \n",
            " bidirectional_1 (Bidirectio  (None, 32)               6272      \n",
            " nal)                                                            \n",
            "                                                                 \n",
            " dense (Dense)               (None, 6)                 198       \n",
            "                                                                 \n",
            " dense_1 (Dense)             (None, 1)                 7         \n",
            "                                                                 \n",
            "=================================================================\n",
            "Total params: 26,701\n",
            "Trainable params: 26,701\n",
            "Non-trainable params: 0\n",
            "_________________________________________________________________\n"
          ]
        }
      ]
    },
    {
      "cell_type": "markdown",
      "source": [
        "#### 7. Train The Model"
      ],
      "metadata": {
        "id": "3dgV-JU9B4AV"
      }
    },
    {
      "cell_type": "code",
      "source": [
        "num_epochs = 30\n",
        "\n",
        "model.compile(loss='binary_crossentropy',optimizer='adam',metrics=['accuracy'])\n",
        "history = model.fit(training_sequences, \n",
        "                    training_labels_final, \n",
        "                    epochs=num_epochs, \n",
        "                    validation_data=(testing_sequences, testing_labels_final))"
      ],
      "metadata": {
        "colab": {
          "base_uri": "https://localhost:8080/"
        },
        "id": "sSyJtbAPBNoa",
        "outputId": "57d1b110-08b0-429f-e2c8-86d61289344a"
      },
      "execution_count": 28,
      "outputs": [
        {
          "output_type": "stream",
          "name": "stdout",
          "text": [
            "Epoch 1/30\n",
            "50/50 [==============================] - 13s 98ms/step - loss: 0.6924 - accuracy: 0.5210 - val_loss: 0.6972 - val_accuracy: 0.4110\n",
            "Epoch 2/30\n",
            "50/50 [==============================] - 3s 63ms/step - loss: 0.6322 - accuracy: 0.6466 - val_loss: 0.5299 - val_accuracy: 0.7519\n",
            "Epoch 3/30\n",
            "50/50 [==============================] - 3s 63ms/step - loss: 0.4128 - accuracy: 0.8180 - val_loss: 0.5541 - val_accuracy: 0.7368\n",
            "Epoch 4/30\n",
            "50/50 [==============================] - 3s 63ms/step - loss: 0.3002 - accuracy: 0.8851 - val_loss: 0.6061 - val_accuracy: 0.7368\n",
            "Epoch 5/30\n",
            "50/50 [==============================] - 3s 63ms/step - loss: 0.2349 - accuracy: 0.9184 - val_loss: 0.5823 - val_accuracy: 0.7694\n",
            "Epoch 6/30\n",
            "50/50 [==============================] - 3s 63ms/step - loss: 0.2145 - accuracy: 0.9266 - val_loss: 0.6600 - val_accuracy: 0.7644\n",
            "Epoch 7/30\n",
            "50/50 [==============================] - 3s 64ms/step - loss: 0.1598 - accuracy: 0.9529 - val_loss: 0.7045 - val_accuracy: 0.7669\n",
            "Epoch 8/30\n",
            "50/50 [==============================] - 3s 66ms/step - loss: 0.1419 - accuracy: 0.9586 - val_loss: 0.8204 - val_accuracy: 0.7569\n",
            "Epoch 9/30\n",
            "50/50 [==============================] - 3s 65ms/step - loss: 0.1481 - accuracy: 0.9573 - val_loss: 0.6640 - val_accuracy: 0.7744\n",
            "Epoch 10/30\n",
            "50/50 [==============================] - 3s 65ms/step - loss: 0.1470 - accuracy: 0.9605 - val_loss: 0.7065 - val_accuracy: 0.7469\n",
            "Epoch 11/30\n",
            "50/50 [==============================] - 3s 63ms/step - loss: 0.1282 - accuracy: 0.9636 - val_loss: 0.7405 - val_accuracy: 0.7594\n",
            "Epoch 12/30\n",
            "50/50 [==============================] - 3s 62ms/step - loss: 0.1072 - accuracy: 0.9761 - val_loss: 0.8747 - val_accuracy: 0.7544\n",
            "Epoch 13/30\n",
            "50/50 [==============================] - 3s 61ms/step - loss: 0.0966 - accuracy: 0.9780 - val_loss: 0.8311 - val_accuracy: 0.7669\n",
            "Epoch 14/30\n",
            "50/50 [==============================] - 3s 61ms/step - loss: 0.0922 - accuracy: 0.9780 - val_loss: 0.9020 - val_accuracy: 0.7469\n",
            "Epoch 15/30\n",
            "50/50 [==============================] - 3s 63ms/step - loss: 0.0955 - accuracy: 0.9768 - val_loss: 0.8671 - val_accuracy: 0.7569\n",
            "Epoch 16/30\n",
            "50/50 [==============================] - 3s 63ms/step - loss: 0.1261 - accuracy: 0.9661 - val_loss: 0.8400 - val_accuracy: 0.7544\n",
            "Epoch 17/30\n",
            "50/50 [==============================] - 3s 62ms/step - loss: 0.1382 - accuracy: 0.9598 - val_loss: 0.7735 - val_accuracy: 0.7519\n",
            "Epoch 18/30\n",
            "50/50 [==============================] - 3s 64ms/step - loss: 0.0953 - accuracy: 0.9774 - val_loss: 0.8815 - val_accuracy: 0.7444\n",
            "Epoch 19/30\n",
            "50/50 [==============================] - 3s 63ms/step - loss: 0.0813 - accuracy: 0.9812 - val_loss: 0.9668 - val_accuracy: 0.7318\n",
            "Epoch 20/30\n",
            "50/50 [==============================] - 3s 63ms/step - loss: 0.0703 - accuracy: 0.9856 - val_loss: 1.0611 - val_accuracy: 0.7368\n",
            "Epoch 21/30\n",
            "50/50 [==============================] - 3s 62ms/step - loss: 0.0747 - accuracy: 0.9818 - val_loss: 0.8448 - val_accuracy: 0.7669\n",
            "Epoch 22/30\n",
            "50/50 [==============================] - 3s 62ms/step - loss: 0.0697 - accuracy: 0.9849 - val_loss: 1.0167 - val_accuracy: 0.7444\n",
            "Epoch 23/30\n",
            "50/50 [==============================] - 3s 62ms/step - loss: 0.0577 - accuracy: 0.9874 - val_loss: 1.1286 - val_accuracy: 0.7368\n",
            "Epoch 24/30\n",
            "50/50 [==============================] - 3s 63ms/step - loss: 0.0567 - accuracy: 0.9868 - val_loss: 1.1534 - val_accuracy: 0.7393\n",
            "Epoch 25/30\n",
            "50/50 [==============================] - 3s 63ms/step - loss: 0.0578 - accuracy: 0.9868 - val_loss: 1.0391 - val_accuracy: 0.7569\n",
            "Epoch 26/30\n",
            "50/50 [==============================] - 3s 63ms/step - loss: 0.0517 - accuracy: 0.9900 - val_loss: 1.0880 - val_accuracy: 0.7494\n",
            "Epoch 27/30\n",
            "50/50 [==============================] - 3s 64ms/step - loss: 0.0507 - accuracy: 0.9893 - val_loss: 1.0289 - val_accuracy: 0.7569\n",
            "Epoch 28/30\n",
            "50/50 [==============================] - 3s 63ms/step - loss: 0.0777 - accuracy: 0.9793 - val_loss: 0.9542 - val_accuracy: 0.7494\n",
            "Epoch 29/30\n",
            "50/50 [==============================] - 3s 63ms/step - loss: 0.0687 - accuracy: 0.9824 - val_loss: 1.1793 - val_accuracy: 0.7343\n",
            "Epoch 30/30\n",
            "50/50 [==============================] - 4s 79ms/step - loss: 0.0549 - accuracy: 0.9874 - val_loss: 1.1752 - val_accuracy: 0.7293\n"
          ]
        }
      ]
    },
    {
      "cell_type": "markdown",
      "source": [
        "#### 7. Visualize Training Graph"
      ],
      "metadata": {
        "id": "U-u7TWiODZRl"
      }
    },
    {
      "cell_type": "code",
      "source": [
        "import matplotlib.pyplot as plt\n",
        "\n",
        "def plot_graphs(history, string):\n",
        "  plt.plot(history.history[string])\n",
        "  plt.plot(history.history['val_'+string])\n",
        "  plt.xlabel(\"Epochs\")\n",
        "  plt.ylabel(string)\n",
        "  plt.legend([string, 'val_'+string])\n",
        "  plt.show()\n",
        "\n",
        "plot_graphs(history, \"accuracy\")\n",
        "plot_graphs(history, \"loss\")"
      ],
      "metadata": {
        "colab": {
          "base_uri": "https://localhost:8080/",
          "height": 541
        },
        "id": "g0Tb295gB--J",
        "outputId": "504c547c-82b5-464d-e71c-76034a76d427"
      },
      "execution_count": 29,
      "outputs": [
        {
          "output_type": "display_data",
          "data": {
            "text/plain": [
              "<Figure size 432x288 with 1 Axes>"
            ],
            "image/png": "[encoded data removed]"
          },
          "metadata": {
            "needs_background": "light"
          }
        },
        {
          "output_type": "display_data",
          "data": {
            "text/plain": [
              "<Figure size 432x288 with 1 Axes>"
            ],
            "image/png": "[encoded data removed]"
          },
          "metadata": {
            "needs_background": "light"
          }
        }
      ]
    },
    {
      "cell_type": "markdown",
      "source": [
        "#### 8. Predict Some New Reviews"
      ],
      "metadata": {
        "id": "CE3Z8E5sDf87"
      }
    },
    {
      "cell_type": "code",
      "source": [
        "# New Reviews   \n",
        "new_reviews = [\"I love this phone\", \n",
        "                \"Everything was cold\",\n",
        "                \"Everything was hot exactly as I wanted\", \n",
        "                \"Everything was green\", \n",
        "                \"the host seated us immediately\",\n",
        "                \"they gave us free chocolate cake\", \n",
        "                \"we couldn't hear each other talk because of the shouting in the kitchen\"\n",
        "              ]\n",
        "\n",
        "# Define a function to take a series of reviews\n",
        "# and predict whether each one is a positive or negative review\n",
        "# max_length = 100 # previously defined\n",
        "\n",
        "def predict_review(model, new_sentences, maxlen=max_length, show_padded_sequence=True ):\n",
        "  # Keep the original sentences so that we can keep using them later\n",
        "  # Create an array to hold the encoded sequences\n",
        "  new_sequences = []\n",
        "  \n",
        "  # Convert the new reviews to sequences\n",
        "  for i, frvw in enumerate(new_sentences):\n",
        "    new_sequences.append(tokenizer.encode(frvw))\n",
        "\n",
        "  trunc_type='post' \n",
        "  padding_type='post'\n",
        "\n",
        "  # Pad all sequences for the new reviews\n",
        "  new_reviews_padded = pad_sequences(new_sequences, maxlen=max_length, \n",
        "                                 padding=padding_type, truncating=trunc_type)             \n",
        "\n",
        "  classes = model.predict(new_reviews_padded)\n",
        "\n",
        "  # The closer the class is to 1, the more positive the review is\n",
        "  for x in range(len(new_sentences)):\n",
        "    \n",
        "    # We can see the padded sequence if desired\n",
        "    # Print the sequence\n",
        "    if (show_padded_sequence):\n",
        "      print(new_reviews_padded[x])\n",
        "    # Print the review as text\n",
        "    print(new_sentences[x])\n",
        "    # Print its predicted class\n",
        "    print(classes[x])\n",
        "    print(\"\\n\")"
      ],
      "metadata": {
        "id": "tOmBVuGtDXGj"
      },
      "execution_count": 30,
      "outputs": []
    },
    {
      "cell_type": "code",
      "source": [
        "predict_review(model, new_reviews)"
      ],
      "metadata": {
        "colab": {
          "base_uri": "https://localhost:8080/"
        },
        "id": "DP5A7HvVD-9s",
        "outputId": "6dbfd42e-a91e-4867-b52e-a305b5874c2a"
      },
      "execution_count": 32,
      "outputs": [
        {
          "output_type": "stream",
          "name": "stdout",
          "text": [
            "[  4 281  16  25   0   0   0   0   0   0   0   0   0   0   0   0   0   0\n",
            "   0   0   0   0   0   0   0   0   0   0   0   0   0   0   0   0   0   0\n",
            "   0   0   0   0   0   0   0   0   0   0   0   0   0   0]\n",
            "I love this phone\n",
            "[0.99871755]\n",
            "\n",
            "\n",
            "[812 227 864 100 775   9 525 843   0   0   0   0   0   0   0   0   0   0\n",
            "   0   0   0   0   0   0   0   0   0   0   0   0   0   0   0   0   0   0\n",
            "   0   0   0   0   0   0   0   0   0   0   0   0   0   0]\n",
            "Everything was cold\n",
            "[0.01929688]\n",
            "\n",
            "\n",
            "[812 227 864 100 775   9 109   8 333 731  24  61   4 171  59  77   0   0\n",
            "   0   0   0   0   0   0   0   0   0   0   0   0   0   0   0   0   0   0\n",
            "   0   0   0   0   0   0   0   0   0   0   0   0   0   0]\n",
            "Everything was hot exactly as I wanted\n",
            "[0.96945584]\n",
            "\n",
            "\n",
            "[812 227 864 100 775   9 157 359 853   0   0   0   0   0   0   0   0   0\n",
            "   0   0   0   0   0   0   0   0   0   0   0   0   0   0   0   0   0   0\n",
            "   0   0   0   0   0   0   0   0   0   0   0   0   0   0]\n",
            "Everything was green\n",
            "[0.01834053]\n",
            "\n",
            "\n",
            "[  1 109 228 540 237 635 241 423 340  89 298   0   0   0   0   0   0   0\n",
            "   0   0   0   0   0   0   0   0   0   0   0   0   0   0   0   0   0   0\n",
            "   0   0   0   0   0   0   0   0   0   0   0   0   0   0]\n",
            "the host seated us immediately\n",
            "[0.10446358]\n",
            "\n",
            "\n",
            "[154 242  47 635 341  12 569 547 147 319 775 125  85   0   0   0   0   0\n",
            "   0   0   0   0   0   0   0   0   0   0   0   0   0   0   0   0   0   0\n",
            "   0   0   0   0   0   0   0   0   0   0   0   0   0   0]\n",
            "they gave us free chocolate cake\n",
            "[0.9985459]\n",
            "\n",
            "\n",
            "[158 190 853 782   8 607 775 210 232 146 775 470  67 305 101  15   1 328\n",
            " 296  26  19   1 661 641 195   0   0   0   0   0   0   0   0   0   0   0\n",
            "   0   0   0   0   0   0   0   0   0   0   0   0   0   0]\n",
            "we couldn't hear each other talk because of the shouting in the kitchen\n",
            "[0.01701149]\n",
            "\n",
            "\n"
          ]
        }
      ]
    }
  ]
}